{
 "cells": [
  {
   "cell_type": "markdown",
   "metadata": {},
   "source": [
    "# Project 3: Binary Classification\n",
    "\n",
    "*Project Outline:*\n",
    "\n",
    "- [Dataset Analysis](#analyze)\n",
    "- [Prepare Data](#prepare)\n",
    "- [Regression Model](#regression)\n",
    "- [Boosting Model](#boost)\n",
    "- [Variable Importance](#variable)\n",
    "- [Model Comparison](#compare)"
   ]
  },
  {
   "cell_type": "code",
   "execution_count": 62,
   "metadata": {},
   "outputs": [],
   "source": [
    "import pandas as pd\n",
    "from sklearn.preprocessing import StandardScaler\n",
    "from sklearn.linear_model import LogisticRegressionCV\n",
    "from sklearn.model_selection import StratifiedKFold, train_test_split\n",
    "from sklearn.metrics import precision_recall_curve, roc_curve, det_curve, confusion_matrix, \\\n",
    "        plot_det_curve, plot_roc_curve, f1_score, accuracy_score\n",
    "import matplotlib.pyplot as plt\n",
    "import numpy as np\n",
    "import xgboost as xgb\n",
    "from math import log, sqrt\n",
    "%matplotlib inline "
   ]
  },
  {
   "cell_type": "code",
   "execution_count": 3,
   "metadata": {},
   "outputs": [],
   "source": [
    "# Suppress regression convergence warnings\n",
    "import warnings\n",
    "warnings.filterwarnings('ignore')"
   ]
  },
  {
   "cell_type": "markdown",
   "metadata": {},
   "source": [
    "<a id=\"analyze\"></a>\n",
    "## Dataset Analysis\n",
    "We will evaluate the shape, size and profile of the credit card transaction set to determine our approach to data preparation for model training."
   ]
  },
  {
   "cell_type": "code",
   "execution_count": 4,
   "metadata": {},
   "outputs": [
    {
     "name": "stdout",
     "output_type": "stream",
     "text": [
      "(284807, 31)\n"
     ]
    },
    {
     "data": {
      "text/html": [
       "<div>\n",
       "<style scoped>\n",
       "    .dataframe tbody tr th:only-of-type {\n",
       "        vertical-align: middle;\n",
       "    }\n",
       "\n",
       "    .dataframe tbody tr th {\n",
       "        vertical-align: top;\n",
       "    }\n",
       "\n",
       "    .dataframe thead th {\n",
       "        text-align: right;\n",
       "    }\n",
       "</style>\n",
       "<table border=\"1\" class=\"dataframe\">\n",
       "  <thead>\n",
       "    <tr style=\"text-align: right;\">\n",
       "      <th></th>\n",
       "      <th>Time</th>\n",
       "      <th>V1</th>\n",
       "      <th>V2</th>\n",
       "      <th>V3</th>\n",
       "      <th>V4</th>\n",
       "      <th>V5</th>\n",
       "      <th>V6</th>\n",
       "      <th>V7</th>\n",
       "      <th>V8</th>\n",
       "      <th>V9</th>\n",
       "      <th>...</th>\n",
       "      <th>V21</th>\n",
       "      <th>V22</th>\n",
       "      <th>V23</th>\n",
       "      <th>V24</th>\n",
       "      <th>V25</th>\n",
       "      <th>V26</th>\n",
       "      <th>V27</th>\n",
       "      <th>V28</th>\n",
       "      <th>Amount</th>\n",
       "      <th>Class</th>\n",
       "    </tr>\n",
       "  </thead>\n",
       "  <tbody>\n",
       "    <tr>\n",
       "      <th>0</th>\n",
       "      <td>0.0</td>\n",
       "      <td>-1.359807</td>\n",
       "      <td>-0.072781</td>\n",
       "      <td>2.536347</td>\n",
       "      <td>1.378155</td>\n",
       "      <td>-0.338321</td>\n",
       "      <td>0.462388</td>\n",
       "      <td>0.239599</td>\n",
       "      <td>0.098698</td>\n",
       "      <td>0.363787</td>\n",
       "      <td>...</td>\n",
       "      <td>-0.018307</td>\n",
       "      <td>0.277838</td>\n",
       "      <td>-0.110474</td>\n",
       "      <td>0.066928</td>\n",
       "      <td>0.128539</td>\n",
       "      <td>-0.189115</td>\n",
       "      <td>0.133558</td>\n",
       "      <td>-0.021053</td>\n",
       "      <td>149.62</td>\n",
       "      <td>0</td>\n",
       "    </tr>\n",
       "  </tbody>\n",
       "</table>\n",
       "<p>1 rows × 31 columns</p>\n",
       "</div>"
      ],
      "text/plain": [
       "   Time        V1        V2        V3        V4        V5        V6        V7  \\\n",
       "0   0.0 -1.359807 -0.072781  2.536347  1.378155 -0.338321  0.462388  0.239599   \n",
       "\n",
       "         V8        V9  ...       V21       V22       V23       V24       V25  \\\n",
       "0  0.098698  0.363787  ... -0.018307  0.277838 -0.110474  0.066928  0.128539   \n",
       "\n",
       "        V26       V27       V28  Amount  Class  \n",
       "0 -0.189115  0.133558 -0.021053  149.62      0  \n",
       "\n",
       "[1 rows x 31 columns]"
      ]
     },
     "execution_count": 4,
     "metadata": {},
     "output_type": "execute_result"
    }
   ],
   "source": [
    "df = pd.read_csv('creditcard.csv')\n",
    "print(df.shape)\n",
    "df.head(1)"
   ]
  },
  {
   "cell_type": "code",
   "execution_count": 5,
   "metadata": {},
   "outputs": [
    {
     "data": {
      "text/html": [
       "<div>\n",
       "<style scoped>\n",
       "    .dataframe tbody tr th:only-of-type {\n",
       "        vertical-align: middle;\n",
       "    }\n",
       "\n",
       "    .dataframe tbody tr th {\n",
       "        vertical-align: top;\n",
       "    }\n",
       "\n",
       "    .dataframe thead th {\n",
       "        text-align: right;\n",
       "    }\n",
       "</style>\n",
       "<table border=\"1\" class=\"dataframe\">\n",
       "  <thead>\n",
       "    <tr style=\"text-align: right;\">\n",
       "      <th></th>\n",
       "      <th>Time</th>\n",
       "      <th>V1</th>\n",
       "      <th>V2</th>\n",
       "      <th>V3</th>\n",
       "      <th>V4</th>\n",
       "      <th>V5</th>\n",
       "      <th>V6</th>\n",
       "      <th>V7</th>\n",
       "      <th>V8</th>\n",
       "      <th>V9</th>\n",
       "      <th>...</th>\n",
       "      <th>V21</th>\n",
       "      <th>V22</th>\n",
       "      <th>V23</th>\n",
       "      <th>V24</th>\n",
       "      <th>V25</th>\n",
       "      <th>V26</th>\n",
       "      <th>V27</th>\n",
       "      <th>V28</th>\n",
       "      <th>Amount</th>\n",
       "      <th>Class</th>\n",
       "    </tr>\n",
       "  </thead>\n",
       "  <tbody>\n",
       "    <tr>\n",
       "      <th>count</th>\n",
       "      <td>284807.000000</td>\n",
       "      <td>2.848070e+05</td>\n",
       "      <td>2.848070e+05</td>\n",
       "      <td>2.848070e+05</td>\n",
       "      <td>2.848070e+05</td>\n",
       "      <td>2.848070e+05</td>\n",
       "      <td>2.848070e+05</td>\n",
       "      <td>2.848070e+05</td>\n",
       "      <td>2.848070e+05</td>\n",
       "      <td>2.848070e+05</td>\n",
       "      <td>...</td>\n",
       "      <td>2.848070e+05</td>\n",
       "      <td>2.848070e+05</td>\n",
       "      <td>2.848070e+05</td>\n",
       "      <td>2.848070e+05</td>\n",
       "      <td>2.848070e+05</td>\n",
       "      <td>2.848070e+05</td>\n",
       "      <td>2.848070e+05</td>\n",
       "      <td>2.848070e+05</td>\n",
       "      <td>284807.000000</td>\n",
       "      <td>284807.000000</td>\n",
       "    </tr>\n",
       "    <tr>\n",
       "      <th>mean</th>\n",
       "      <td>94813.859575</td>\n",
       "      <td>3.919560e-15</td>\n",
       "      <td>5.688174e-16</td>\n",
       "      <td>-8.769071e-15</td>\n",
       "      <td>2.782312e-15</td>\n",
       "      <td>-1.552563e-15</td>\n",
       "      <td>2.010663e-15</td>\n",
       "      <td>-1.694249e-15</td>\n",
       "      <td>-1.927028e-16</td>\n",
       "      <td>-3.137024e-15</td>\n",
       "      <td>...</td>\n",
       "      <td>1.537294e-16</td>\n",
       "      <td>7.959909e-16</td>\n",
       "      <td>5.367590e-16</td>\n",
       "      <td>4.458112e-15</td>\n",
       "      <td>1.453003e-15</td>\n",
       "      <td>1.699104e-15</td>\n",
       "      <td>-3.660161e-16</td>\n",
       "      <td>-1.206049e-16</td>\n",
       "      <td>88.349619</td>\n",
       "      <td>0.001727</td>\n",
       "    </tr>\n",
       "    <tr>\n",
       "      <th>std</th>\n",
       "      <td>47488.145955</td>\n",
       "      <td>1.958696e+00</td>\n",
       "      <td>1.651309e+00</td>\n",
       "      <td>1.516255e+00</td>\n",
       "      <td>1.415869e+00</td>\n",
       "      <td>1.380247e+00</td>\n",
       "      <td>1.332271e+00</td>\n",
       "      <td>1.237094e+00</td>\n",
       "      <td>1.194353e+00</td>\n",
       "      <td>1.098632e+00</td>\n",
       "      <td>...</td>\n",
       "      <td>7.345240e-01</td>\n",
       "      <td>7.257016e-01</td>\n",
       "      <td>6.244603e-01</td>\n",
       "      <td>6.056471e-01</td>\n",
       "      <td>5.212781e-01</td>\n",
       "      <td>4.822270e-01</td>\n",
       "      <td>4.036325e-01</td>\n",
       "      <td>3.300833e-01</td>\n",
       "      <td>250.120109</td>\n",
       "      <td>0.041527</td>\n",
       "    </tr>\n",
       "    <tr>\n",
       "      <th>min</th>\n",
       "      <td>0.000000</td>\n",
       "      <td>-5.640751e+01</td>\n",
       "      <td>-7.271573e+01</td>\n",
       "      <td>-4.832559e+01</td>\n",
       "      <td>-5.683171e+00</td>\n",
       "      <td>-1.137433e+02</td>\n",
       "      <td>-2.616051e+01</td>\n",
       "      <td>-4.355724e+01</td>\n",
       "      <td>-7.321672e+01</td>\n",
       "      <td>-1.343407e+01</td>\n",
       "      <td>...</td>\n",
       "      <td>-3.483038e+01</td>\n",
       "      <td>-1.093314e+01</td>\n",
       "      <td>-4.480774e+01</td>\n",
       "      <td>-2.836627e+00</td>\n",
       "      <td>-1.029540e+01</td>\n",
       "      <td>-2.604551e+00</td>\n",
       "      <td>-2.256568e+01</td>\n",
       "      <td>-1.543008e+01</td>\n",
       "      <td>0.000000</td>\n",
       "      <td>0.000000</td>\n",
       "    </tr>\n",
       "    <tr>\n",
       "      <th>25%</th>\n",
       "      <td>54201.500000</td>\n",
       "      <td>-9.203734e-01</td>\n",
       "      <td>-5.985499e-01</td>\n",
       "      <td>-8.903648e-01</td>\n",
       "      <td>-8.486401e-01</td>\n",
       "      <td>-6.915971e-01</td>\n",
       "      <td>-7.682956e-01</td>\n",
       "      <td>-5.540759e-01</td>\n",
       "      <td>-2.086297e-01</td>\n",
       "      <td>-6.430976e-01</td>\n",
       "      <td>...</td>\n",
       "      <td>-2.283949e-01</td>\n",
       "      <td>-5.423504e-01</td>\n",
       "      <td>-1.618463e-01</td>\n",
       "      <td>-3.545861e-01</td>\n",
       "      <td>-3.171451e-01</td>\n",
       "      <td>-3.269839e-01</td>\n",
       "      <td>-7.083953e-02</td>\n",
       "      <td>-5.295979e-02</td>\n",
       "      <td>5.600000</td>\n",
       "      <td>0.000000</td>\n",
       "    </tr>\n",
       "    <tr>\n",
       "      <th>50%</th>\n",
       "      <td>84692.000000</td>\n",
       "      <td>1.810880e-02</td>\n",
       "      <td>6.548556e-02</td>\n",
       "      <td>1.798463e-01</td>\n",
       "      <td>-1.984653e-02</td>\n",
       "      <td>-5.433583e-02</td>\n",
       "      <td>-2.741871e-01</td>\n",
       "      <td>4.010308e-02</td>\n",
       "      <td>2.235804e-02</td>\n",
       "      <td>-5.142873e-02</td>\n",
       "      <td>...</td>\n",
       "      <td>-2.945017e-02</td>\n",
       "      <td>6.781943e-03</td>\n",
       "      <td>-1.119293e-02</td>\n",
       "      <td>4.097606e-02</td>\n",
       "      <td>1.659350e-02</td>\n",
       "      <td>-5.213911e-02</td>\n",
       "      <td>1.342146e-03</td>\n",
       "      <td>1.124383e-02</td>\n",
       "      <td>22.000000</td>\n",
       "      <td>0.000000</td>\n",
       "    </tr>\n",
       "    <tr>\n",
       "      <th>75%</th>\n",
       "      <td>139320.500000</td>\n",
       "      <td>1.315642e+00</td>\n",
       "      <td>8.037239e-01</td>\n",
       "      <td>1.027196e+00</td>\n",
       "      <td>7.433413e-01</td>\n",
       "      <td>6.119264e-01</td>\n",
       "      <td>3.985649e-01</td>\n",
       "      <td>5.704361e-01</td>\n",
       "      <td>3.273459e-01</td>\n",
       "      <td>5.971390e-01</td>\n",
       "      <td>...</td>\n",
       "      <td>1.863772e-01</td>\n",
       "      <td>5.285536e-01</td>\n",
       "      <td>1.476421e-01</td>\n",
       "      <td>4.395266e-01</td>\n",
       "      <td>3.507156e-01</td>\n",
       "      <td>2.409522e-01</td>\n",
       "      <td>9.104512e-02</td>\n",
       "      <td>7.827995e-02</td>\n",
       "      <td>77.165000</td>\n",
       "      <td>0.000000</td>\n",
       "    </tr>\n",
       "    <tr>\n",
       "      <th>max</th>\n",
       "      <td>172792.000000</td>\n",
       "      <td>2.454930e+00</td>\n",
       "      <td>2.205773e+01</td>\n",
       "      <td>9.382558e+00</td>\n",
       "      <td>1.687534e+01</td>\n",
       "      <td>3.480167e+01</td>\n",
       "      <td>7.330163e+01</td>\n",
       "      <td>1.205895e+02</td>\n",
       "      <td>2.000721e+01</td>\n",
       "      <td>1.559499e+01</td>\n",
       "      <td>...</td>\n",
       "      <td>2.720284e+01</td>\n",
       "      <td>1.050309e+01</td>\n",
       "      <td>2.252841e+01</td>\n",
       "      <td>4.584549e+00</td>\n",
       "      <td>7.519589e+00</td>\n",
       "      <td>3.517346e+00</td>\n",
       "      <td>3.161220e+01</td>\n",
       "      <td>3.384781e+01</td>\n",
       "      <td>25691.160000</td>\n",
       "      <td>1.000000</td>\n",
       "    </tr>\n",
       "  </tbody>\n",
       "</table>\n",
       "<p>8 rows × 31 columns</p>\n",
       "</div>"
      ],
      "text/plain": [
       "                Time            V1            V2            V3            V4  \\\n",
       "count  284807.000000  2.848070e+05  2.848070e+05  2.848070e+05  2.848070e+05   \n",
       "mean    94813.859575  3.919560e-15  5.688174e-16 -8.769071e-15  2.782312e-15   \n",
       "std     47488.145955  1.958696e+00  1.651309e+00  1.516255e+00  1.415869e+00   \n",
       "min         0.000000 -5.640751e+01 -7.271573e+01 -4.832559e+01 -5.683171e+00   \n",
       "25%     54201.500000 -9.203734e-01 -5.985499e-01 -8.903648e-01 -8.486401e-01   \n",
       "50%     84692.000000  1.810880e-02  6.548556e-02  1.798463e-01 -1.984653e-02   \n",
       "75%    139320.500000  1.315642e+00  8.037239e-01  1.027196e+00  7.433413e-01   \n",
       "max    172792.000000  2.454930e+00  2.205773e+01  9.382558e+00  1.687534e+01   \n",
       "\n",
       "                 V5            V6            V7            V8            V9  \\\n",
       "count  2.848070e+05  2.848070e+05  2.848070e+05  2.848070e+05  2.848070e+05   \n",
       "mean  -1.552563e-15  2.010663e-15 -1.694249e-15 -1.927028e-16 -3.137024e-15   \n",
       "std    1.380247e+00  1.332271e+00  1.237094e+00  1.194353e+00  1.098632e+00   \n",
       "min   -1.137433e+02 -2.616051e+01 -4.355724e+01 -7.321672e+01 -1.343407e+01   \n",
       "25%   -6.915971e-01 -7.682956e-01 -5.540759e-01 -2.086297e-01 -6.430976e-01   \n",
       "50%   -5.433583e-02 -2.741871e-01  4.010308e-02  2.235804e-02 -5.142873e-02   \n",
       "75%    6.119264e-01  3.985649e-01  5.704361e-01  3.273459e-01  5.971390e-01   \n",
       "max    3.480167e+01  7.330163e+01  1.205895e+02  2.000721e+01  1.559499e+01   \n",
       "\n",
       "       ...           V21           V22           V23           V24  \\\n",
       "count  ...  2.848070e+05  2.848070e+05  2.848070e+05  2.848070e+05   \n",
       "mean   ...  1.537294e-16  7.959909e-16  5.367590e-16  4.458112e-15   \n",
       "std    ...  7.345240e-01  7.257016e-01  6.244603e-01  6.056471e-01   \n",
       "min    ... -3.483038e+01 -1.093314e+01 -4.480774e+01 -2.836627e+00   \n",
       "25%    ... -2.283949e-01 -5.423504e-01 -1.618463e-01 -3.545861e-01   \n",
       "50%    ... -2.945017e-02  6.781943e-03 -1.119293e-02  4.097606e-02   \n",
       "75%    ...  1.863772e-01  5.285536e-01  1.476421e-01  4.395266e-01   \n",
       "max    ...  2.720284e+01  1.050309e+01  2.252841e+01  4.584549e+00   \n",
       "\n",
       "                V25           V26           V27           V28         Amount  \\\n",
       "count  2.848070e+05  2.848070e+05  2.848070e+05  2.848070e+05  284807.000000   \n",
       "mean   1.453003e-15  1.699104e-15 -3.660161e-16 -1.206049e-16      88.349619   \n",
       "std    5.212781e-01  4.822270e-01  4.036325e-01  3.300833e-01     250.120109   \n",
       "min   -1.029540e+01 -2.604551e+00 -2.256568e+01 -1.543008e+01       0.000000   \n",
       "25%   -3.171451e-01 -3.269839e-01 -7.083953e-02 -5.295979e-02       5.600000   \n",
       "50%    1.659350e-02 -5.213911e-02  1.342146e-03  1.124383e-02      22.000000   \n",
       "75%    3.507156e-01  2.409522e-01  9.104512e-02  7.827995e-02      77.165000   \n",
       "max    7.519589e+00  3.517346e+00  3.161220e+01  3.384781e+01   25691.160000   \n",
       "\n",
       "               Class  \n",
       "count  284807.000000  \n",
       "mean        0.001727  \n",
       "std         0.041527  \n",
       "min         0.000000  \n",
       "25%         0.000000  \n",
       "50%         0.000000  \n",
       "75%         0.000000  \n",
       "max         1.000000  \n",
       "\n",
       "[8 rows x 31 columns]"
      ]
     },
     "execution_count": 5,
     "metadata": {},
     "output_type": "execute_result"
    }
   ],
   "source": [
    "df.describe()"
   ]
  },
  {
   "cell_type": "code",
   "execution_count": 6,
   "metadata": {},
   "outputs": [
    {
     "data": {
      "text/plain": [
       "0    284315\n",
       "1       492\n",
       "Name: Class, dtype: int64"
      ]
     },
     "execution_count": 6,
     "metadata": {},
     "output_type": "execute_result"
    }
   ],
   "source": [
    "df.Class.value_counts()"
   ]
  },
  {
   "cell_type": "code",
   "execution_count": 7,
   "metadata": {},
   "outputs": [],
   "source": [
    "# Sample dataframe for faster training\n",
    "df = df.sample(frac=0.1)"
   ]
  },
  {
   "cell_type": "markdown",
   "metadata": {},
   "source": [
    "#### *Analysis*\n",
    "\n",
    "*Balance*\n",
    "\n",
    "We can see by the small number of fraud cases in the dataset that the data is highly skewed (unbalanced). We can test whether the model will perform better with a more balanced dataset by oversampling the positive (fraudulent) values, and comparing that to the results with the original model.\n",
    "\n",
    "*Cross-Validation*\n",
    "\n",
    "Cross-validation is an effective strategy to improve the performance of a model when available data is limited. In this case, we have nearly 300k datapoints, and while only a small number of those are fraudulent, it is plenty of data to train the model and cross-validation is likely not necessary. That being said, we will test the results using a cross-validated model to see if performance improves."
   ]
  },
  {
   "cell_type": "markdown",
   "metadata": {},
   "source": [
    "<a id=\"prepare\"></a>\n",
    "## Dataset Preparation\n",
    "We will prepare training and testing datasets using the original distribution, and an alternative training set using an oversampling approach to balance the data to compare performance results."
   ]
  },
  {
   "cell_type": "code",
   "execution_count": 52,
   "metadata": {},
   "outputs": [
    {
     "name": "stdout",
     "output_type": "stream",
     "text": [
      "Full data: 0.151% \n",
      "Training: 0.149% \n",
      "Testing: 0.158%\n"
     ]
    }
   ],
   "source": [
    "# Splitting of original population\n",
    "X = df.values[:,:-1]\n",
    "y = df.values[:,-1].reshape(-1,1)\n",
    "X_train, X_test, y_train, y_test = train_test_split(X, y, test_size=0.2, random_state=42, stratify=y)\n",
    "print(f\"\"\"Full data: {(y == 1).sum() / y.shape[0]:.3%} \n",
    "Training: {(y_train == 1).sum() / y_train.shape[0]:.3%} \n",
    "Testing: {(y_test == 1).sum() / y_test.shape[0]:.3%}\"\"\")"
   ]
  },
  {
   "cell_type": "code",
   "execution_count": 53,
   "metadata": {},
   "outputs": [
    {
     "name": "stdout",
     "output_type": "stream",
     "text": [
      "(23974, 31)\n",
      "5.11%\n"
     ]
    },
    {
     "data": {
      "text/plain": [
       "0.0    22750\n",
       "1.0     1224\n",
       "Name: Class, dtype: int64"
      ]
     },
     "execution_count": 53,
     "metadata": {},
     "output_type": "execute_result"
    }
   ],
   "source": [
    "# Oversampling approach (~5%) of the training set\n",
    "df_o = pd.DataFrame(np.concatenate([X_train, y_train], axis=1), columns=df.columns)\n",
    "df0 = df_o.query('Class == 0')\n",
    "df1 = df_o.query('Class == 1')\n",
    "\n",
    "# Append fraud entries until 5% of population\n",
    "df_o = df0.copy()\n",
    "while True:\n",
    "    df_o = pd.concat([df_o, df1], ignore_index=True)\n",
    "    if df_o.Class.value_counts()[1] / df_o.shape[0] > 0.05:\n",
    "        break\n",
    "X_o_train = df_o.values[:,:-1]\n",
    "y_o_train = df_o.values[:,-1]\n",
    "print(df_o.shape)\n",
    "print(f'{df_o.Class.value_counts()[1] / df_o.shape[0]:.2%}')\n",
    "df_o.Class.value_counts()"
   ]
  },
  {
   "cell_type": "code",
   "execution_count": 54,
   "metadata": {},
   "outputs": [],
   "source": [
    "# Use standard scaler to normalize\n",
    "\n",
    "# Original Data\n",
    "scaler = StandardScaler()\n",
    "scaler.fit(X_train)\n",
    "\n",
    "X_train_norm = scaler.transform(X_train)\n",
    "X_test_norm = scaler.transform(X_test)\n",
    "\n",
    "# Oversampled Data\n",
    "scaler = StandardScaler()\n",
    "scaler.fit(X_o_train)\n",
    "\n",
    "X_o_train_norm = scaler.transform(X_o_train)"
   ]
  },
  {
   "cell_type": "code",
   "execution_count": 55,
   "metadata": {},
   "outputs": [],
   "source": [
    "# Convert vectors back to 1d array\n",
    "y_train = y_train.reshape(-1)\n",
    "y_test = y_test.reshape(-1)"
   ]
  },
  {
   "cell_type": "markdown",
   "metadata": {},
   "source": [
    "<a id=\"regression\"></a>\n",
    "## Regression Modeling\n",
    "Because our data is highly unbalanced, an accuracy metric will not be an effective measure of model success. To account for the small amount of positives (fraud) in the dataset, we will use f1 score to evaluate the model, which considers a combination of recall (true positives identified) and precision (accurate predictions of fraud). This heightens focus on the small population of fraudulent entries but balances the tendency to overpredict fraud. \n",
    "\n",
    "I will train 4 penalized regression models and compare the results:\n",
    "- Vanilla Logistic regression (no CV) with original distribution\n",
    "- 5-Fold Cross-Validated Logistic Regression with original distribution\n",
    "- Vanilla Logistic regression (no CV) with oversampled distribution\n",
    "- 5-Fold Cross-Validated Logistic Regression with oversampled distribution"
   ]
  },
  {
   "cell_type": "code",
   "execution_count": 56,
   "metadata": {},
   "outputs": [],
   "source": [
    "# Establish scoring metrics and list to store results\n",
    "metric = 'f1' # Weighted average of precision and recall\n",
    "model_results = []"
   ]
  },
  {
   "cell_type": "code",
   "execution_count": 57,
   "metadata": {
    "scrolled": true
   },
   "outputs": [
    {
     "name": "stdout",
     "output_type": "stream",
     "text": [
      "f1 with vanilla logistic regression, original distribution:\n",
      "Training:  0.7741935483870968\n",
      "Testing:  0.7142857142857143\n"
     ]
    }
   ],
   "source": [
    "# Fit the model with plain logistic regression (no cross-validation)\n",
    "clf = LogisticRegressionCV(cv=None, penalty='elasticnet',  l1_ratios=[0.1, 0.5, 1.0],\n",
    "                           solver='saga',\n",
    "                           scoring=metric,\n",
    "                           random_state=42)\n",
    "clf.fit(X_train_norm, y_train)\n",
    "model_results.append((clf.score(X_train_norm, y_train), clf.score(X_test_norm, y_test)))\n",
    "\n",
    "# Metric scoring\n",
    "print(metric+' with vanilla logistic regression, original distribution:')\n",
    "print('Training: ', clf.score(X_train_norm, y_train))\n",
    "print('Testing: ', clf.score(X_test_norm, y_test))"
   ]
  },
  {
   "cell_type": "code",
   "execution_count": 58,
   "metadata": {},
   "outputs": [
    {
     "name": "stdout",
     "output_type": "stream",
     "text": [
      "f1 with 5-fold cross-validated logistic regression, original distribution:\n",
      "Training:  0.7741935483870968\n",
      "Testing:  0.7142857142857143\n"
     ]
    }
   ],
   "source": [
    "# Fit the model with 5 cross-validation iterations\n",
    "clf1 = LogisticRegressionCV(cv=5, penalty='elasticnet',  l1_ratios=[0.1, 0.5, 1.0],\n",
    "                           solver='saga',\n",
    "                           scoring=metric,\n",
    "                           random_state=42)\n",
    "clf1.fit(X_train_norm, y_train)\n",
    "model_results.append((clf1.score(X_train_norm, y_train), clf1.score(X_test_norm, y_test)))\n",
    "\n",
    "# Metric scoring\n",
    "print(metric+' with 5-fold cross-validated logistic regression, original distribution:')\n",
    "print('Training: ', clf1.score(X_train_norm, y_train))\n",
    "print('Testing: ', clf1.score(X_test_norm, y_test))"
   ]
  },
  {
   "cell_type": "code",
   "execution_count": 59,
   "metadata": {},
   "outputs": [
    {
     "name": "stdout",
     "output_type": "stream",
     "text": [
      "f1 with vanilla logistic regression, oversampled distribution:\n",
      "Training:  0.8812330009066183\n",
      "Testing:  0.1411764705882353\n"
     ]
    }
   ],
   "source": [
    "# Fit the model with plain logistic regression (no cross-validation)\n",
    "clf2 = LogisticRegressionCV(cv=None, penalty='elasticnet',  l1_ratios=[0.1, 0.5, 1.0],\n",
    "                           solver='saga',\n",
    "                           scoring=metric,\n",
    "                           random_state=42)\n",
    "clf2.fit(X_o_train_norm, y_o_train)\n",
    "model_results.append((clf2.score(X_train_norm, y_train), clf2.score(X_test_norm, y_test)))\n",
    "\n",
    "# Metric scoring\n",
    "print(metric+' with vanilla logistic regression, oversampled distribution:')\n",
    "print('Training: ', clf2.score(X_o_train_norm, y_o_train))\n",
    "print('Testing: ', clf2.score(X_test_norm, y_test))"
   ]
  },
  {
   "cell_type": "code",
   "execution_count": 60,
   "metadata": {},
   "outputs": [
    {
     "name": "stdout",
     "output_type": "stream",
     "text": [
      "f1 with 5-fold cross-validated logistic regression, oversampled distribution:\n",
      "Training:  0.8812330009066183\n",
      "Testing:  0.1411764705882353\n"
     ]
    }
   ],
   "source": [
    "# Fit the model with 5 cross-validation iterations\n",
    "clf3 = LogisticRegressionCV(cv=5, penalty='elasticnet',  l1_ratios=[0.1, 0.5, 1.0],\n",
    "                           solver='saga',\n",
    "                           scoring=metric,\n",
    "                           random_state=42)\n",
    "clf3.fit(X_o_train_norm, y_o_train)\n",
    "model_results.append((clf3.score(X_train_norm, y_train), clf3.score(X_test_norm, y_test)))\n",
    "\n",
    "# Recall scoring\n",
    "print(metric+' with 5-fold cross-validated logistic regression, oversampled distribution:')\n",
    "print('Training: ', clf3.score(X_o_train_norm, y_o_train))\n",
    "print('Testing: ', clf3.score(X_test_norm, y_test))"
   ]
  },
  {
   "cell_type": "code",
   "execution_count": 61,
   "metadata": {},
   "outputs": [
    {
     "data": {
      "text/plain": [
       "'The best result (0.7143) was from #0'"
      ]
     },
     "execution_count": 61,
     "metadata": {},
     "output_type": "execute_result"
    }
   ],
   "source": [
    "# Determine best performing model parameters\n",
    "test_results = [x[1] for x in model_results]\n",
    "best_reg = test_results.index(max(test_results))\n",
    "f'The best result ({max(test_results):.4f}) was from #{test_results.index(max(test_results))}'"
   ]
  },
  {
   "cell_type": "markdown",
   "metadata": {},
   "source": [
    "### Best Regression Model\n",
    "The best-performing models used the original distribution, as the oversampled population led to incredible training metrics but terrible results on the testing set. The cross-validation did not appear to have any notable impact on the performance of the model.\n",
    "\n",
    "For the best model, we will compute the confusion matrices and plot the DET and ROC curves."
   ]
  },
  {
   "cell_type": "code",
   "execution_count": 63,
   "metadata": {},
   "outputs": [
    {
     "name": "stdout",
     "output_type": "stream",
     "text": [
      "confusion matrix with 0.25 threshold \n",
      " [[5688    0]\n",
      " [   6    3]]\n",
      "confusion matrix with 0.50 threshold \n",
      " [[5688    0]\n",
      " [   4    5]]\n",
      "confusion matrix with 0.75 threshold \n",
      " [[5687    1]\n",
      " [   3    6]]\n"
     ]
    }
   ],
   "source": [
    "# Use probability predictions to test thresholds\n",
    "probs_te = clf.predict_proba(X_test_norm)\n",
    "prob1 = [x[1] for x in probs_te] \n",
    "\n",
    "# Test thresholds 0.25 - 0.75\n",
    "y_te_25 = [int(x + 0.25) for x in prob1]\n",
    "y_te_50 = [int(x + 0.5) for x in prob1]\n",
    "y_te_75 = [int(x + 0.75) for x in prob1]\n",
    "\n",
    "# Create confusion matrices\n",
    "conf_mat25 = confusion_matrix(y_test, y_te_25)\n",
    "conf_mat50 = confusion_matrix(y_test, y_te_50)\n",
    "conf_mat75 = confusion_matrix(y_test, y_te_75)\n",
    "\n",
    "print('confusion matrix with 0.25 threshold \\n', conf_mat25)\n",
    "print('confusion matrix with 0.50 threshold \\n', conf_mat50)\n",
    "print('confusion matrix with 0.75 threshold \\n', conf_mat75)"
   ]
  },
  {
   "cell_type": "code",
   "execution_count": 64,
   "metadata": {},
   "outputs": [
    {
     "data": {
      "text/plain": [
       "<sklearn.metrics._plot.roc_curve.RocCurveDisplay at 0x211e53a59d0>"
      ]
     },
     "execution_count": 64,
     "metadata": {},
     "output_type": "execute_result"
    },
    {
     "data": {
      "image/png": "[encoded data removed]",
      "text/plain": [
       "<Figure size 432x288 with 1 Axes>"
      ]
     },
     "metadata": {
      "needs_background": "light"
     },
     "output_type": "display_data"
    },
    {
     "data": {
      "image/png": "[encoded data removed]",
      "text/plain": [
       "<Figure size 432x288 with 1 Axes>"
      ]
     },
     "metadata": {
      "needs_background": "light"
     },
     "output_type": "display_data"
    }
   ],
   "source": [
    "# Use Detection Error Tradeoff (DET) and Receiver Operating Curve (ROC) to further evaluate models\n",
    "plot_det_curve(clf, X_test_norm, y_test)\n",
    "plot_roc_curve(clf, X_test_norm, y_test)"
   ]
  },
  {
   "cell_type": "markdown",
   "metadata": {},
   "source": [
    "<a id=\"boost\"></a>\n",
    "## Gradient Boosting Model\n",
    "For the XGBoost model, we will first use error to determine the best model. Once we create confusion matrices based on various thresholds, we can evaludate the recall to compare the results to the regression.\n",
    "\n",
    "Like the regression, we will try 4 versions of the model:\n",
    "\n",
    "- Vanilla (no-CV) XGBoost with original distribution\n",
    "- 5-fold Cross-Validated XGBoost with original distribution\n",
    "- Vanilla (no-CV) XGBoost with oversampled distribution\n",
    "- 5-fold Cross-Validated XGBoost with oversampled distribution"
   ]
  },
  {
   "cell_type": "code",
   "execution_count": 65,
   "metadata": {},
   "outputs": [
    {
     "data": {
      "text/plain": [
       "5"
      ]
     },
     "execution_count": 65,
     "metadata": {},
     "output_type": "execute_result"
    }
   ],
   "source": [
    "# Parameters for XGB model\n",
    "params = {\n",
    "     'n_estimators': 1000,\n",
    "     'learning_rate': 0.07,\n",
    "     'objective': 'binary:logistic',\n",
    "     'eval_metric': 'error',\n",
    "     'nthread': 5,\n",
    "     'verbosity': 1\n",
    "    }\n",
    "xgb_results = []\n",
    "\n",
    "# Possible combinations of depth and alpha to test\n",
    "tunes = [(2,1),(2,2),(5,1),(5,2)]\n",
    "\n",
    "# K-fold stratifications for CV models\n",
    "skf = StratifiedKFold(n_splits=5)\n",
    "skf.get_n_splits(X_train, y_train)\n",
    "skf1 = StratifiedKFold(n_splits=5)\n",
    "skf1.get_n_splits(X_o_train, y_o_train)"
   ]
  },
  {
   "cell_type": "code",
   "execution_count": 66,
   "metadata": {},
   "outputs": [],
   "source": [
    "# Vanilla XGB with original distribuion\n",
    "results_list = []\n",
    "for depth, alpha in tunes:\n",
    "    params.update({'max_depth':depth, 'alpha':alpha})\n",
    "    xgb_dmat = xgb.DMatrix(X_train, label=y_train)\n",
    "    model = xgb.XGBClassifier(**params, use_label_encoder=False)\n",
    "    model.fit(X_train, y_train, eval_set=[(X_train, y_train), (X_test, y_test)], eval_metric='error', verbose=False)\n",
    "    results = model.evals_result()\n",
    "    results_list.append(results)"
   ]
  },
  {
   "cell_type": "code",
   "execution_count": 67,
   "metadata": {},
   "outputs": [
    {
     "name": "stdout",
     "output_type": "stream",
     "text": [
      "Best parameters: max_depth=5, alpha=1\n",
      "Training error: 0.00009\n",
      "Testing error: 0.00053\n"
     ]
    }
   ],
   "source": [
    "# Compute results of model\n",
    "tr_err = [sum(results_list[i]['validation_0']['error']) for i in range(len(results_list))]\n",
    "val_err = [sum(results_list[i]['validation_1']['error']) for i in range(len(results_list))]\n",
    "\n",
    "tr_res = results_list[tr_err.index(min(tr_err))]['validation_0']['error']\n",
    "val_res = results_list[val_err.index(min(val_err))]['validation_1']['error']\n",
    "xgb_results.append((f1_score(y_train, model.predict(X_train)), f1_score(y_test, model.predict(X_test))))\n",
    "\n",
    "print('Best parameters: max_depth={}, alpha={}'.format(*tunes[tr_err.index(min(tr_err))]))\n",
    "print(f'Training error: {tr_res[-1]:.5f}\\nTesting error: {val_res[-1]:.5f}')"
   ]
  },
  {
   "cell_type": "code",
   "execution_count": 68,
   "metadata": {},
   "outputs": [],
   "source": [
    "# XGB with 5-fold cross-validation and original distribution\n",
    "results_list1 = []\n",
    "for depth, alpha in tunes:\n",
    "    params.update({'max_depth':depth, 'alpha':alpha})\n",
    "    for train_index, val_index in skf.split(X_train, y_train):\n",
    "        x_tr, x_val = X_train[train_index, :], X_train[val_index, :]\n",
    "        #print(x_tr.shape)\n",
    "        y_tr, y_val = y_train[train_index], y_train[val_index]\n",
    "        xgb_dmat = xgb.DMatrix(x_tr, label=y_tr)\n",
    "        #print(1)\n",
    "        model1 = xgb.XGBClassifier(**params, use_label_encoder=False)\n",
    "        model1.fit(x_tr, y_tr, eval_set=[(x_tr, y_tr), (x_val, y_val)],eval_metric='error', verbose=False)\n",
    "        results = model1.evals_result()\n",
    "        results_list1.append(results)"
   ]
  },
  {
   "cell_type": "code",
   "execution_count": 69,
   "metadata": {},
   "outputs": [
    {
     "name": "stdout",
     "output_type": "stream",
     "text": [
      "Best parameters: max_depth=5, alpha=1\n",
      "Training error: 0.00006\n",
      "Testing error: 0.00044\n"
     ]
    }
   ],
   "source": [
    "# Compute results of model\n",
    "tr_err = [sum(results_list1[i]['validation_0']['error']) for i in range(len(results_list1))]\n",
    "val_err = [sum(results_list1[i]['validation_1']['error']) for i in range(len(results_list1))]\n",
    "\n",
    "tr_res = results_list1[tr_err.index(min(tr_err))]['validation_0']['error']\n",
    "val_res = results_list1[val_err.index(min(val_err))]['validation_1']['error']\n",
    "xgb_results.append((f1_score(y_train, model1.predict(X_train)), f1_score(y_test, model1.predict(X_test))))\n",
    "\n",
    "print('Best parameters: max_depth={}, alpha={}'.format(*tunes[tr_err.index(min(tr_err)) // 5]))\n",
    "print(f'Training error: {tr_res[-1]:.5f}\\nTesting error: {val_res[-1]:.5f}')"
   ]
  },
  {
   "cell_type": "code",
   "execution_count": 70,
   "metadata": {},
   "outputs": [],
   "source": [
    "# Vanilla XGB with oversampled distribuion\n",
    "results_list2 = []\n",
    "for depth, alpha in tunes:\n",
    "    params.update({'max_depth':depth, 'alpha':alpha})\n",
    "    xgb_dmat = xgb.DMatrix(X_o_train, label=y_o_train)\n",
    "    model2 = xgb.XGBClassifier(**params, use_label_encoder=False)\n",
    "    model2.fit(X_o_train, y_o_train, eval_set=[(X_o_train, y_o_train), (X_test, y_test)], eval_metric='error', verbose=False)\n",
    "    results = model2.evals_result()\n",
    "    results_list2.append(results)"
   ]
  },
  {
   "cell_type": "code",
   "execution_count": 71,
   "metadata": {},
   "outputs": [
    {
     "name": "stdout",
     "output_type": "stream",
     "text": [
      "Best parameters: max_depth=2, alpha=1\n",
      "Training error: 0.00004\n",
      "Testing error: 0.00053\n"
     ]
    }
   ],
   "source": [
    "# Compute results of model\n",
    "tr_err = [sum(results_list2[i]['validation_0']['error']) for i in range(len(results_list2))]\n",
    "val_err = [sum(results_list2[i]['validation_1']['error']) for i in range(len(results_list2))]\n",
    "\n",
    "tr_res = results_list2[tr_err.index(min(tr_err))]['validation_0']['error']\n",
    "val_res = results_list2[val_err.index(min(val_err))]['validation_1']['error']\n",
    "xgb_results.append((f1_score(y_o_train, model2.predict(X_o_train)), f1_score(y_test, model2.predict(X_test))))\n",
    "\n",
    "print('Best parameters: max_depth={}, alpha={}'.format(*tunes[tr_err.index(min(tr_err)) // 5]))\n",
    "print(f'Training error: {tr_res[-1]:.5f}\\nTesting error: {val_res[-1]:.5f}')"
   ]
  },
  {
   "cell_type": "code",
   "execution_count": 72,
   "metadata": {},
   "outputs": [],
   "source": [
    "# XGB with 5-fold cross-validation and oversampled distribution\n",
    "results_list3 = []\n",
    "for depth, alpha in tunes:\n",
    "    params.update({'max_depth':depth, 'alpha':alpha})\n",
    "    for train_index, val_index in skf.split(X_train, y_train):\n",
    "        x_tr, x_val = X_o_train[train_index, :], X_o_train[val_index, :]\n",
    "        #print(x_tr.shape)\n",
    "        y_tr, y_val = y_o_train[train_index], y_o_train[val_index]\n",
    "        xgb_dmat = xgb.DMatrix(x_tr, label=y_tr)\n",
    "        #print(1)\n",
    "        model3 = xgb.XGBClassifier(**params, use_label_encoder=False)\n",
    "        model3.fit(x_tr, y_tr, eval_set=[(x_tr, y_tr), (x_val, y_val)],eval_metric='error', verbose=False)\n",
    "        results = model3.evals_result()\n",
    "        results_list3.append(results)"
   ]
  },
  {
   "cell_type": "code",
   "execution_count": 73,
   "metadata": {},
   "outputs": [
    {
     "name": "stdout",
     "output_type": "stream",
     "text": [
      "Best parameters: max_depth=2, alpha=1\n",
      "Training error: 0.00000\n",
      "Testing error: 0.00000\n"
     ]
    }
   ],
   "source": [
    "# Compute results of model\n",
    "tr_err = [sum(results_list3[i]['validation_0']['error']) for i in range(len(results_list3))]\n",
    "val_err = [sum(results_list3[i]['validation_1']['error']) for i in range(len(results_list3))]\n",
    "\n",
    "tr_res = results_list3[tr_err.index(min(tr_err))]['validation_0']['error']\n",
    "val_res = results_list3[val_err.index(min(val_err))]['validation_1']['error']\n",
    "xgb_results.append((f1_score(y_o_train, model3.predict(X_o_train)), f1_score(y_test, model3.predict(X_test))))\n",
    "\n",
    "print('Best parameters: max_depth={}, alpha={}'.format(*tunes[tr_err.index(min(tr_err)) // 5]))\n",
    "print(f'Training error: {tr_res[-1]:.5f}\\nTesting error: {val_res[-1]:.5f}')"
   ]
  },
  {
   "cell_type": "code",
   "execution_count": 74,
   "metadata": {},
   "outputs": [
    {
     "data": {
      "text/plain": [
       "'The best result (0.8000) was from #0'"
      ]
     },
     "execution_count": 74,
     "metadata": {},
     "output_type": "execute_result"
    }
   ],
   "source": [
    "# Determine best performing model parameters\n",
    "val_results = [x[1] for x in xgb_results]\n",
    "best_xgb = val_results.index(max(val_results))\n",
    "f'The best result ({max(val_results):.4f}) was from #{val_results.index(max(val_results))}'"
   ]
  },
  {
   "cell_type": "markdown",
   "metadata": {},
   "source": [
    "### Best XGB Model\n",
    "\n",
    "Again, the use of the oversampled population did not improve the model performance based on the established metric, although in this case it did result in a lower error rate. As error was the metric used to train the model, it may not be entirely justifiable to evaluate it based on a separate metric and reject the model which performed best based on the objective, but the XGB package does not appear to have a f1 score objective available.\n",
    "\n",
    "In this case, the cross-validation reduced the error and improved the f1 scores, while it did not provide benefit in the regression models."
   ]
  },
  {
   "cell_type": "code",
   "execution_count": 82,
   "metadata": {},
   "outputs": [
    {
     "name": "stdout",
     "output_type": "stream",
     "text": [
      "confusion matrix with 0.25 threshold \n",
      " [[5688    0]\n",
      " [   5    4]]\n",
      "confusion matrix with 0.50 threshold \n",
      " [[5688    0]\n",
      " [   3    6]]\n",
      "confusion matrix with 0.75 threshold \n",
      " [[5687    1]\n",
      " [   3    6]]\n"
     ]
    }
   ],
   "source": [
    "# Use probability predictions to test thresholds\n",
    "probs_te = model.predict_proba(X_test)\n",
    "prob1 = [x[1] for x in probs_te]\n",
    "\n",
    "# Test thresholds 0.25 - 0.75\n",
    "y_te_25 = [int(x + 0.25) for x in prob1]\n",
    "y_te_50 = [int(x + 0.5) for x in prob1]\n",
    "y_te_75 = [int(x + 0.75) for x in prob1]\n",
    "\n",
    "# Create confusion matrices\n",
    "x_conf_mat25 = confusion_matrix(y_test, y_te_25)\n",
    "x_conf_mat50 = confusion_matrix(y_test, y_te_50)\n",
    "x_conf_mat75 = confusion_matrix(y_test, y_te_75)\n",
    "\n",
    "print('confusion matrix with 0.25 threshold \\n', x_conf_mat25)\n",
    "print('confusion matrix with 0.50 threshold \\n', x_conf_mat50)\n",
    "print('confusion matrix with 0.75 threshold \\n', x_conf_mat75)"
   ]
  },
  {
   "cell_type": "code",
   "execution_count": 83,
   "metadata": {},
   "outputs": [
    {
     "data": {
      "text/plain": [
       "<sklearn.metrics._plot.roc_curve.RocCurveDisplay at 0x211f6260880>"
      ]
     },
     "execution_count": 83,
     "metadata": {},
     "output_type": "execute_result"
    },
    {
     "data": {
      "image/png": "[encoded data removed]",
      "text/plain": [
       "<Figure size 432x288 with 1 Axes>"
      ]
     },
     "metadata": {
      "needs_background": "light"
     },
     "output_type": "display_data"
    },
    {
     "data": {
      "image/png": "[encoded data removed]",
      "text/plain": [
       "<Figure size 432x288 with 1 Axes>"
      ]
     },
     "metadata": {
      "needs_background": "light"
     },
     "output_type": "display_data"
    }
   ],
   "source": [
    "# Use Detection Error Tradeoff (DET) and Receiver Operating Curve (ROC) to further evaluate models\n",
    "plot_det_curve(model, X_test, y_test)\n",
    "plot_roc_curve(model, X_test, y_test)"
   ]
  },
  {
   "cell_type": "markdown",
   "metadata": {},
   "source": [
    "<a id=\"variable\"></a>\n",
    "## Variable Importance\n",
    "To analyze variable importance, we will look at the variable coeffients for the logistic regression and the feature importance for the XGB classifier models."
   ]
  },
  {
   "cell_type": "code",
   "execution_count": 84,
   "metadata": {},
   "outputs": [
    {
     "data": {
      "image/png": "[encoded data removed]",
      "text/plain": [
       "<Figure size 1080x360 with 1 Axes>"
      ]
     },
     "metadata": {
      "needs_background": "light"
     },
     "output_type": "display_data"
    }
   ],
   "source": [
    "# Regression Features\n",
    "coef_df = pd.DataFrame(clf2.coef_, columns=df.columns[:-1]).melt().set_index('variable')\n",
    "coef_df.value = coef_df.value.abs()\n",
    "plt.figure(figsize=(15,5))\n",
    "plt.title('Regression Coefficients')\n",
    "plt.plot(coef_df.sort_values('value'))\n",
    "plt.show();"
   ]
  },
  {
   "cell_type": "code",
   "execution_count": 85,
   "metadata": {},
   "outputs": [
    {
     "data": {
      "image/png": "[encoded data removed]",
      "text/plain": [
       "<Figure size 1080x360 with 1 Axes>"
      ]
     },
     "metadata": {
      "needs_background": "light"
     },
     "output_type": "display_data"
    }
   ],
   "source": [
    "# XGB Features\n",
    "feature_importance_df = pd.DataFrame.from_dict(dict(zip(df.columns, model1.feature_importances_)), orient='index')\n",
    "plt.figure(figsize=(15,5))\n",
    "plt.title('XGB Features')\n",
    "plt.plot(feature_importance_df.sort_values(0))\n",
    "plt.show();"
   ]
  },
  {
   "cell_type": "markdown",
   "metadata": {},
   "source": [
    "### *Analysis*\n",
    "Based on the charts above, both models identified similar features (V10 and V14 as most important), but the regression model gives more weight to less important features compared to the XGBoost."
   ]
  },
  {
   "cell_type": "markdown",
   "metadata": {},
   "source": [
    "<a id=\"compare\"></a>\n",
    "## Model Comparison"
   ]
  },
  {
   "cell_type": "code",
   "execution_count": 79,
   "metadata": {},
   "outputs": [
    {
     "name": "stdout",
     "output_type": "stream",
     "text": [
      "Best logistic regression metrics: (0.7741935483870968, 0.7142857142857143)\n",
      "Best XGB metrics: (0.8709677419354839, 0.8)\n",
      "\n",
      "Best logistic regression accuracy: 0.9984202211690363\n",
      "Best XGB accuracy: 0.9994734070563455\n"
     ]
    }
   ],
   "source": [
    "# Compare model f1_score results\n",
    "print(f'''Best logistic regression metrics: {model_results[best_reg]}\n",
    "Best XGB metrics: {xgb_results[best_xgb]}''')\n",
    "\n",
    "# Compare model accuracy\n",
    "reg_acc = accuracy_score(y_test, clf.predict(X_test))\n",
    "xgb_acc = accuracy_score(y_test, model1.predict(X_test))\n",
    "print()\n",
    "print(f'''Best logistic regression accuracy: {reg_acc}\n",
    "Best XGB accuracy: {xgb_acc}''')"
   ]
  },
  {
   "cell_type": "code",
   "execution_count": 87,
   "metadata": {},
   "outputs": [
    {
     "name": "stdout",
     "output_type": "stream",
     "text": [
      "Cost for log reg: 24000, xgb: 20000, 120.00%\n",
      "Cost for log reg: 16000, xgb: 12000, 133.33%\n",
      "Cost for log reg: 12025, xgb: 12025, 100.00%\n"
     ]
    }
   ],
   "source": [
    "# Pairs of matrices at thresholds to compute costs\n",
    "conf_mtx = [(conf_mat25, x_conf_mat25), (conf_mat50, x_conf_mat50), (conf_mat75, x_conf_mat75)]\n",
    "\n",
    "# Costs for each model at each threshold\n",
    "for reg_mx, xgb_mx in conf_mtx:\n",
    "    reg_cost = reg_mx[0][1] * 25 + reg_mx[1][0] * 4000\n",
    "    xgb_cost = xgb_mx[0][1] * 25 + xgb_mx[1][0] * 4000\n",
    "    print(f'Cost for log reg: {reg_cost}, xgb: {xgb_cost}, {reg_cost / xgb_cost:.2%}')"
   ]
  },
  {
   "cell_type": "markdown",
   "metadata": {},
   "source": [
    "### *Analysis*\n",
    "The models performed almost identically on the testing dataset, although the XGB model had much better metrics on the training data. As the regression model gives more weight to a broader number of variables, it is likely to be more generalizable to new data that may not exactly match historical patterns."
   ]
  },
  {
   "cell_type": "code",
   "execution_count": 88,
   "metadata": {},
   "outputs": [
    {
     "name": "stderr",
     "output_type": "stream",
     "text": [
      "[NbConvertApp] Converting notebook Project_3_Conan.ipynb to html\n",
      "[NbConvertApp] Writing 477601 bytes to Project_3_Conan.html\n"
     ]
    }
   ],
   "source": [
    "!jupyter nbconvert --to html --template full *.ipynb"
   ]
  }
 ],
 "metadata": {
  "kernelspec": {
   "display_name": "Python 3",
   "language": "python",
   "name": "python3"
  },
  "language_info": {
   "codemirror_mode": {
    "name": "ipython",
    "version": 3
   },
   "file_extension": ".py",
   "mimetype": "text/x-python",
   "name": "python",
   "nbconvert_exporter": "python",
   "pygments_lexer": "ipython3",
   "version": "3.8.3"
  }
 },
 "nbformat": 4,
 "nbformat_minor": 4
}
